{
 "cells": [
  {
   "cell_type": "code",
   "execution_count": 57,
   "metadata": {
    "collapsed": false,
    "scrolled": false
   },
   "outputs": [
    {
     "name": "stdout",
     "output_type": "stream",
     "text": [
      "<class 'pandas.core.frame.DataFrame'>\n",
      "RangeIndex: 47647 entries, 0 to 47646\n",
      "Data columns (total 9 columns):\n",
      "기준일     47647 non-null int64\n",
      "요일      47647 non-null object\n",
      "성별      47647 non-null object\n",
      "연령대     47647 non-null object\n",
      "시도      47647 non-null object\n",
      "시군구     47647 non-null object\n",
      "읍면동     47647 non-null object\n",
      "업종      47647 non-null object\n",
      "통화건수    47647 non-null int64\n",
      "dtypes: int64(2), object(7)\n",
      "memory usage: 2.0+ MB\n"
     ]
    }
   ],
   "source": [
    "import pandas as pd\n",
    "import numpy as np\n",
    "import numpy as np # linear algebra\n",
    "import pandas as pd # data processing, CSV file I/O (e.g. pd.read_csv)\n",
    "import sklearn\n",
    "import matplotlib.pyplot as plt ## 차트 그리기 모듈 matplotlib import scipy.stats as stats ## 통계 등 과학용 모듈 scipy\n",
    "import matplotlib.pyplot as plt\n",
    "from matplotlib import font_manager, rc\n",
    "font_name = font_manager.FontProperties(fname=\"c:/Windows/Fonts/malgun.ttf\").get_name()\n",
    "rc('font', family=font_name)\n",
    "\n",
    "# 분석을 위해 CALL_CHICKEN_11MONTH.csv 로 부터 dataFrame 을 얻도록 한다.\n",
    "df1 = pd.read_csv('./csv files/china/CALL_CHICKEN_11MONTH.csv')\n",
    "df1.info()"
   ]
  },
  {
   "cell_type": "markdown",
   "metadata": {},
   "source": [
    "## 11월 치킨 이용 분석 데이터를 불러옵니다."
   ]
  },
  {
   "cell_type": "code",
   "execution_count": 58,
   "metadata": {
    "collapsed": false,
    "scrolled": true
   },
   "outputs": [
    {
     "data": {
      "text/html": [
       "<div>\n",
       "<table border=\"1\" class=\"dataframe\">\n",
       "  <thead>\n",
       "    <tr style=\"text-align: right;\">\n",
       "      <th></th>\n",
       "      <th>기준일</th>\n",
       "      <th>요일</th>\n",
       "      <th>성별</th>\n",
       "      <th>연령대</th>\n",
       "      <th>시도</th>\n",
       "      <th>시군구</th>\n",
       "      <th>읍면동</th>\n",
       "      <th>업종</th>\n",
       "      <th>통화건수</th>\n",
       "    </tr>\n",
       "  </thead>\n",
       "  <tbody>\n",
       "    <tr>\n",
       "      <th>0</th>\n",
       "      <td>20161101</td>\n",
       "      <td>화</td>\n",
       "      <td>남</td>\n",
       "      <td>10대</td>\n",
       "      <td>서울특별시</td>\n",
       "      <td>강남구</td>\n",
       "      <td>일원동</td>\n",
       "      <td>치킨</td>\n",
       "      <td>5</td>\n",
       "    </tr>\n",
       "    <tr>\n",
       "      <th>1</th>\n",
       "      <td>20161101</td>\n",
       "      <td>화</td>\n",
       "      <td>남</td>\n",
       "      <td>10대</td>\n",
       "      <td>서울특별시</td>\n",
       "      <td>강남구</td>\n",
       "      <td>역삼동</td>\n",
       "      <td>치킨</td>\n",
       "      <td>7</td>\n",
       "    </tr>\n",
       "    <tr>\n",
       "      <th>2</th>\n",
       "      <td>20161101</td>\n",
       "      <td>화</td>\n",
       "      <td>여</td>\n",
       "      <td>30대</td>\n",
       "      <td>서울특별시</td>\n",
       "      <td>강남구</td>\n",
       "      <td>대치동</td>\n",
       "      <td>치킨</td>\n",
       "      <td>5</td>\n",
       "    </tr>\n",
       "    <tr>\n",
       "      <th>3</th>\n",
       "      <td>20161101</td>\n",
       "      <td>화</td>\n",
       "      <td>남</td>\n",
       "      <td>10대</td>\n",
       "      <td>서울특별시</td>\n",
       "      <td>강남구</td>\n",
       "      <td>도곡동</td>\n",
       "      <td>치킨</td>\n",
       "      <td>5</td>\n",
       "    </tr>\n",
       "    <tr>\n",
       "      <th>4</th>\n",
       "      <td>20161101</td>\n",
       "      <td>화</td>\n",
       "      <td>여</td>\n",
       "      <td>20대</td>\n",
       "      <td>서울특별시</td>\n",
       "      <td>강남구</td>\n",
       "      <td>논현동</td>\n",
       "      <td>치킨</td>\n",
       "      <td>13</td>\n",
       "    </tr>\n",
       "  </tbody>\n",
       "</table>\n",
       "</div>"
      ],
      "text/plain": [
       "        기준일 요일 성별  연령대     시도  시군구  읍면동  업종  통화건수\n",
       "0  20161101  화  남  10대  서울특별시  강남구  일원동  치킨     5\n",
       "1  20161101  화  남  10대  서울특별시  강남구  역삼동  치킨     7\n",
       "2  20161101  화  여  30대  서울특별시  강남구  대치동  치킨     5\n",
       "3  20161101  화  남  10대  서울특별시  강남구  도곡동  치킨     5\n",
       "4  20161101  화  여  20대  서울특별시  강남구  논현동  치킨    13"
      ]
     },
     "execution_count": 58,
     "metadata": {},
     "output_type": "execute_result"
    }
   ],
   "source": [
    "df1.head()"
   ]
  },
  {
   "cell_type": "code",
   "execution_count": 59,
   "metadata": {
    "collapsed": false,
    "scrolled": false
   },
   "outputs": [
    {
     "data": {
      "text/html": [
       "<div>\n",
       "<table border=\"1\" class=\"dataframe\">\n",
       "  <thead>\n",
       "    <tr style=\"text-align: right;\">\n",
       "      <th></th>\n",
       "      <th>기준일</th>\n",
       "      <th>요일</th>\n",
       "      <th>성별</th>\n",
       "      <th>연령대</th>\n",
       "      <th>시도</th>\n",
       "      <th>시군구</th>\n",
       "      <th>읍면동</th>\n",
       "      <th>업종</th>\n",
       "      <th>통화건수</th>\n",
       "    </tr>\n",
       "  </thead>\n",
       "  <tbody>\n",
       "    <tr>\n",
       "      <th>47642</th>\n",
       "      <td>20161130</td>\n",
       "      <td>수</td>\n",
       "      <td>남</td>\n",
       "      <td>20대</td>\n",
       "      <td>서울특별시</td>\n",
       "      <td>중랑구</td>\n",
       "      <td>망우동</td>\n",
       "      <td>치킨</td>\n",
       "      <td>5</td>\n",
       "    </tr>\n",
       "    <tr>\n",
       "      <th>47643</th>\n",
       "      <td>20161130</td>\n",
       "      <td>수</td>\n",
       "      <td>남</td>\n",
       "      <td>10대</td>\n",
       "      <td>서울특별시</td>\n",
       "      <td>중랑구</td>\n",
       "      <td>묵동</td>\n",
       "      <td>치킨</td>\n",
       "      <td>5</td>\n",
       "    </tr>\n",
       "    <tr>\n",
       "      <th>47644</th>\n",
       "      <td>20161130</td>\n",
       "      <td>수</td>\n",
       "      <td>여</td>\n",
       "      <td>20대</td>\n",
       "      <td>서울특별시</td>\n",
       "      <td>중랑구</td>\n",
       "      <td>면목동</td>\n",
       "      <td>치킨</td>\n",
       "      <td>29</td>\n",
       "    </tr>\n",
       "    <tr>\n",
       "      <th>47645</th>\n",
       "      <td>20161130</td>\n",
       "      <td>수</td>\n",
       "      <td>여</td>\n",
       "      <td>50대</td>\n",
       "      <td>서울특별시</td>\n",
       "      <td>중랑구</td>\n",
       "      <td>신내동</td>\n",
       "      <td>치킨</td>\n",
       "      <td>5</td>\n",
       "    </tr>\n",
       "    <tr>\n",
       "      <th>47646</th>\n",
       "      <td>20161130</td>\n",
       "      <td>수</td>\n",
       "      <td>남</td>\n",
       "      <td>10대</td>\n",
       "      <td>서울특별시</td>\n",
       "      <td>중랑구</td>\n",
       "      <td>상봉동</td>\n",
       "      <td>치킨</td>\n",
       "      <td>5</td>\n",
       "    </tr>\n",
       "  </tbody>\n",
       "</table>\n",
       "</div>"
      ],
      "text/plain": [
       "            기준일 요일 성별  연령대     시도  시군구  읍면동  업종  통화건수\n",
       "47642  20161130  수  남  20대  서울특별시  중랑구  망우동  치킨     5\n",
       "47643  20161130  수  남  10대  서울특별시  중랑구   묵동  치킨     5\n",
       "47644  20161130  수  여  20대  서울특별시  중랑구  면목동  치킨    29\n",
       "47645  20161130  수  여  50대  서울특별시  중랑구  신내동  치킨     5\n",
       "47646  20161130  수  남  10대  서울특별시  중랑구  상봉동  치킨     5"
      ]
     },
     "execution_count": 59,
     "metadata": {},
     "output_type": "execute_result"
    }
   ],
   "source": [
    "df1.tail()"
   ]
  },
  {
   "cell_type": "markdown",
   "metadata": {},
   "source": [
    "## 11월 중국집 이용 분석 데이터를 불러옵니다"
   ]
  },
  {
   "cell_type": "code",
   "execution_count": 60,
   "metadata": {
    "collapsed": false,
    "scrolled": true
   },
   "outputs": [
    {
     "name": "stdout",
     "output_type": "stream",
     "text": [
      "<class 'pandas.core.frame.DataFrame'>\n",
      "RangeIndex: 47675 entries, 0 to 47674\n",
      "Data columns (total 9 columns):\n",
      "기준일     47675 non-null int64\n",
      "요일      47675 non-null object\n",
      "성별      47675 non-null object\n",
      "연령대     47675 non-null object\n",
      "시도      47675 non-null object\n",
      "시군구     47675 non-null object\n",
      "읍면동     47675 non-null object\n",
      "업종      47675 non-null object\n",
      "통화건수    47675 non-null int64\n",
      "dtypes: int64(2), object(7)\n",
      "memory usage: 2.0+ MB\n"
     ]
    }
   ],
   "source": [
    "# 분석을 위해 CALL_CFOOD_11MONTH.csv 로 부터 dataFrame 을 얻도록 한다.\n",
    "df2 = pd.read_csv('./csv files/china/CALL_CFOOD_11MONTH.csv')\n",
    "df2.info()"
   ]
  },
  {
   "cell_type": "code",
   "execution_count": 61,
   "metadata": {
    "collapsed": false,
    "scrolled": false
   },
   "outputs": [
    {
     "data": {
      "text/html": [
       "<div>\n",
       "<table border=\"1\" class=\"dataframe\">\n",
       "  <thead>\n",
       "    <tr style=\"text-align: right;\">\n",
       "      <th></th>\n",
       "      <th>기준일</th>\n",
       "      <th>요일</th>\n",
       "      <th>성별</th>\n",
       "      <th>연령대</th>\n",
       "      <th>시도</th>\n",
       "      <th>시군구</th>\n",
       "      <th>읍면동</th>\n",
       "      <th>업종</th>\n",
       "      <th>통화건수</th>\n",
       "    </tr>\n",
       "  </thead>\n",
       "  <tbody>\n",
       "    <tr>\n",
       "      <th>0</th>\n",
       "      <td>20161101</td>\n",
       "      <td>화</td>\n",
       "      <td>남</td>\n",
       "      <td>10대</td>\n",
       "      <td>서울특별시</td>\n",
       "      <td>강남구</td>\n",
       "      <td>일원동</td>\n",
       "      <td>중국집</td>\n",
       "      <td>5</td>\n",
       "    </tr>\n",
       "    <tr>\n",
       "      <th>1</th>\n",
       "      <td>20161101</td>\n",
       "      <td>화</td>\n",
       "      <td>남</td>\n",
       "      <td>10대</td>\n",
       "      <td>서울특별시</td>\n",
       "      <td>강남구</td>\n",
       "      <td>역삼동</td>\n",
       "      <td>중국집</td>\n",
       "      <td>5</td>\n",
       "    </tr>\n",
       "    <tr>\n",
       "      <th>2</th>\n",
       "      <td>20161101</td>\n",
       "      <td>화</td>\n",
       "      <td>여</td>\n",
       "      <td>30대</td>\n",
       "      <td>서울특별시</td>\n",
       "      <td>강남구</td>\n",
       "      <td>대치동</td>\n",
       "      <td>중국집</td>\n",
       "      <td>7</td>\n",
       "    </tr>\n",
       "    <tr>\n",
       "      <th>3</th>\n",
       "      <td>20161101</td>\n",
       "      <td>화</td>\n",
       "      <td>여</td>\n",
       "      <td>20대</td>\n",
       "      <td>서울특별시</td>\n",
       "      <td>강남구</td>\n",
       "      <td>논현동</td>\n",
       "      <td>중국집</td>\n",
       "      <td>24</td>\n",
       "    </tr>\n",
       "    <tr>\n",
       "      <th>4</th>\n",
       "      <td>20161101</td>\n",
       "      <td>화</td>\n",
       "      <td>남</td>\n",
       "      <td>20대</td>\n",
       "      <td>서울특별시</td>\n",
       "      <td>강남구</td>\n",
       "      <td>신사동</td>\n",
       "      <td>중국집</td>\n",
       "      <td>5</td>\n",
       "    </tr>\n",
       "  </tbody>\n",
       "</table>\n",
       "</div>"
      ],
      "text/plain": [
       "        기준일 요일 성별  연령대     시도  시군구  읍면동   업종  통화건수\n",
       "0  20161101  화  남  10대  서울특별시  강남구  일원동  중국집     5\n",
       "1  20161101  화  남  10대  서울특별시  강남구  역삼동  중국집     5\n",
       "2  20161101  화  여  30대  서울특별시  강남구  대치동  중국집     7\n",
       "3  20161101  화  여  20대  서울특별시  강남구  논현동  중국집    24\n",
       "4  20161101  화  남  20대  서울특별시  강남구  신사동  중국집     5"
      ]
     },
     "execution_count": 61,
     "metadata": {},
     "output_type": "execute_result"
    }
   ],
   "source": [
    "df2.head()"
   ]
  },
  {
   "cell_type": "code",
   "execution_count": 62,
   "metadata": {
    "collapsed": false
   },
   "outputs": [
    {
     "data": {
      "text/html": [
       "<div>\n",
       "<table border=\"1\" class=\"dataframe\">\n",
       "  <thead>\n",
       "    <tr style=\"text-align: right;\">\n",
       "      <th></th>\n",
       "      <th>기준일</th>\n",
       "      <th>요일</th>\n",
       "      <th>성별</th>\n",
       "      <th>연령대</th>\n",
       "      <th>시도</th>\n",
       "      <th>시군구</th>\n",
       "      <th>읍면동</th>\n",
       "      <th>업종</th>\n",
       "      <th>통화건수</th>\n",
       "    </tr>\n",
       "  </thead>\n",
       "  <tbody>\n",
       "    <tr>\n",
       "      <th>47670</th>\n",
       "      <td>20161130</td>\n",
       "      <td>수</td>\n",
       "      <td>여</td>\n",
       "      <td>60대이상</td>\n",
       "      <td>서울특별시</td>\n",
       "      <td>중랑구</td>\n",
       "      <td>신내동</td>\n",
       "      <td>중국집</td>\n",
       "      <td>5</td>\n",
       "    </tr>\n",
       "    <tr>\n",
       "      <th>47671</th>\n",
       "      <td>20161130</td>\n",
       "      <td>수</td>\n",
       "      <td>남</td>\n",
       "      <td>20대</td>\n",
       "      <td>서울특별시</td>\n",
       "      <td>중랑구</td>\n",
       "      <td>망우동</td>\n",
       "      <td>중국집</td>\n",
       "      <td>5</td>\n",
       "    </tr>\n",
       "    <tr>\n",
       "      <th>47672</th>\n",
       "      <td>20161130</td>\n",
       "      <td>수</td>\n",
       "      <td>남</td>\n",
       "      <td>10대</td>\n",
       "      <td>서울특별시</td>\n",
       "      <td>중랑구</td>\n",
       "      <td>묵동</td>\n",
       "      <td>중국집</td>\n",
       "      <td>5</td>\n",
       "    </tr>\n",
       "    <tr>\n",
       "      <th>47673</th>\n",
       "      <td>20161130</td>\n",
       "      <td>수</td>\n",
       "      <td>여</td>\n",
       "      <td>20대</td>\n",
       "      <td>서울특별시</td>\n",
       "      <td>중랑구</td>\n",
       "      <td>면목동</td>\n",
       "      <td>중국집</td>\n",
       "      <td>13</td>\n",
       "    </tr>\n",
       "    <tr>\n",
       "      <th>47674</th>\n",
       "      <td>20161130</td>\n",
       "      <td>수</td>\n",
       "      <td>여</td>\n",
       "      <td>50대</td>\n",
       "      <td>서울특별시</td>\n",
       "      <td>중랑구</td>\n",
       "      <td>신내동</td>\n",
       "      <td>중국집</td>\n",
       "      <td>5</td>\n",
       "    </tr>\n",
       "  </tbody>\n",
       "</table>\n",
       "</div>"
      ],
      "text/plain": [
       "            기준일 요일 성별    연령대     시도  시군구  읍면동   업종  통화건수\n",
       "47670  20161130  수  여  60대이상  서울특별시  중랑구  신내동  중국집     5\n",
       "47671  20161130  수  남    20대  서울특별시  중랑구  망우동  중국집     5\n",
       "47672  20161130  수  남    10대  서울특별시  중랑구   묵동  중국집     5\n",
       "47673  20161130  수  여    20대  서울특별시  중랑구  면목동  중국집    13\n",
       "47674  20161130  수  여    50대  서울특별시  중랑구  신내동  중국집     5"
      ]
     },
     "execution_count": 62,
     "metadata": {},
     "output_type": "execute_result"
    }
   ],
   "source": [
    "df2.tail()"
   ]
  },
  {
   "cell_type": "markdown",
   "metadata": {},
   "source": [
    "## 11월 한달간 치킨집 이용 연령별, 요일별 통화건수"
   ]
  },
  {
   "cell_type": "code",
   "execution_count": 63,
   "metadata": {
    "collapsed": false,
    "scrolled": true
   },
   "outputs": [
    {
     "data": {
      "text/html": [
       "<div>\n",
       "<table border=\"1\" class=\"dataframe\">\n",
       "  <thead>\n",
       "    <tr style=\"text-align: right;\">\n",
       "      <th>연령대</th>\n",
       "      <th>10대</th>\n",
       "      <th>20대</th>\n",
       "      <th>30대</th>\n",
       "      <th>40대</th>\n",
       "      <th>50대</th>\n",
       "      <th>60대이상</th>\n",
       "    </tr>\n",
       "    <tr>\n",
       "      <th>요일</th>\n",
       "      <th></th>\n",
       "      <th></th>\n",
       "      <th></th>\n",
       "      <th></th>\n",
       "      <th></th>\n",
       "      <th></th>\n",
       "    </tr>\n",
       "  </thead>\n",
       "  <tbody>\n",
       "    <tr>\n",
       "      <th>금</th>\n",
       "      <td>7979</td>\n",
       "      <td>16736</td>\n",
       "      <td>26483</td>\n",
       "      <td>24103</td>\n",
       "      <td>8866</td>\n",
       "      <td>4735</td>\n",
       "    </tr>\n",
       "    <tr>\n",
       "      <th>목</th>\n",
       "      <td>6652</td>\n",
       "      <td>14299</td>\n",
       "      <td>19356</td>\n",
       "      <td>17501</td>\n",
       "      <td>7611</td>\n",
       "      <td>4057</td>\n",
       "    </tr>\n",
       "    <tr>\n",
       "      <th>수</th>\n",
       "      <td>7649</td>\n",
       "      <td>17280</td>\n",
       "      <td>23491</td>\n",
       "      <td>20695</td>\n",
       "      <td>9033</td>\n",
       "      <td>5089</td>\n",
       "    </tr>\n",
       "    <tr>\n",
       "      <th>월</th>\n",
       "      <td>5247</td>\n",
       "      <td>12439</td>\n",
       "      <td>15273</td>\n",
       "      <td>12690</td>\n",
       "      <td>6253</td>\n",
       "      <td>3617</td>\n",
       "    </tr>\n",
       "    <tr>\n",
       "      <th>일</th>\n",
       "      <td>7764</td>\n",
       "      <td>18427</td>\n",
       "      <td>25264</td>\n",
       "      <td>22878</td>\n",
       "      <td>8743</td>\n",
       "      <td>4711</td>\n",
       "    </tr>\n",
       "    <tr>\n",
       "      <th>토</th>\n",
       "      <td>9580</td>\n",
       "      <td>19861</td>\n",
       "      <td>28373</td>\n",
       "      <td>27296</td>\n",
       "      <td>10244</td>\n",
       "      <td>5364</td>\n",
       "    </tr>\n",
       "    <tr>\n",
       "      <th>화</th>\n",
       "      <td>7234</td>\n",
       "      <td>17127</td>\n",
       "      <td>21760</td>\n",
       "      <td>19244</td>\n",
       "      <td>8588</td>\n",
       "      <td>4944</td>\n",
       "    </tr>\n",
       "  </tbody>\n",
       "</table>\n",
       "</div>"
      ],
      "text/plain": [
       "연령대  10대    20대    30대    40대    50대  60대이상\n",
       "요일                                          \n",
       "금    7979  16736  26483  24103   8866   4735\n",
       "목    6652  14299  19356  17501   7611   4057\n",
       "수    7649  17280  23491  20695   9033   5089\n",
       "월    5247  12439  15273  12690   6253   3617\n",
       "일    7764  18427  25264  22878   8743   4711\n",
       "토    9580  19861  28373  27296  10244   5364\n",
       "화    7234  17127  21760  19244   8588   4944"
      ]
     },
     "execution_count": 63,
     "metadata": {},
     "output_type": "execute_result"
    }
   ],
   "source": [
    "df1 = pd.pivot_table(df1,'통화건수', aggfunc = sum, index=['요일'], columns='연령대')\n",
    "df3 = df1[['10대', '20대', '30대', '40대', '50대', '60대이상']]\n",
    "df3"
   ]
  },
  {
   "cell_type": "code",
   "execution_count": 64,
   "metadata": {
    "collapsed": false,
    "scrolled": true
   },
   "outputs": [
    {
     "data": {
      "text/html": [
       "<div>\n",
       "<table border=\"1\" class=\"dataframe\">\n",
       "  <thead>\n",
       "    <tr style=\"text-align: right;\">\n",
       "      <th>연령대</th>\n",
       "      <th>10대</th>\n",
       "      <th>20대</th>\n",
       "      <th>30대</th>\n",
       "      <th>40대</th>\n",
       "      <th>50대</th>\n",
       "      <th>60대이상</th>\n",
       "    </tr>\n",
       "  </thead>\n",
       "  <tbody>\n",
       "    <tr>\n",
       "      <th>월</th>\n",
       "      <td>5247</td>\n",
       "      <td>12439</td>\n",
       "      <td>15273</td>\n",
       "      <td>12690</td>\n",
       "      <td>6253</td>\n",
       "      <td>3617</td>\n",
       "    </tr>\n",
       "    <tr>\n",
       "      <th>화</th>\n",
       "      <td>7234</td>\n",
       "      <td>17127</td>\n",
       "      <td>21760</td>\n",
       "      <td>19244</td>\n",
       "      <td>8588</td>\n",
       "      <td>4944</td>\n",
       "    </tr>\n",
       "    <tr>\n",
       "      <th>수</th>\n",
       "      <td>7649</td>\n",
       "      <td>17280</td>\n",
       "      <td>23491</td>\n",
       "      <td>20695</td>\n",
       "      <td>9033</td>\n",
       "      <td>5089</td>\n",
       "    </tr>\n",
       "    <tr>\n",
       "      <th>목</th>\n",
       "      <td>6652</td>\n",
       "      <td>14299</td>\n",
       "      <td>19356</td>\n",
       "      <td>17501</td>\n",
       "      <td>7611</td>\n",
       "      <td>4057</td>\n",
       "    </tr>\n",
       "    <tr>\n",
       "      <th>금</th>\n",
       "      <td>7979</td>\n",
       "      <td>16736</td>\n",
       "      <td>26483</td>\n",
       "      <td>24103</td>\n",
       "      <td>8866</td>\n",
       "      <td>4735</td>\n",
       "    </tr>\n",
       "    <tr>\n",
       "      <th>토</th>\n",
       "      <td>9580</td>\n",
       "      <td>19861</td>\n",
       "      <td>28373</td>\n",
       "      <td>27296</td>\n",
       "      <td>10244</td>\n",
       "      <td>5364</td>\n",
       "    </tr>\n",
       "    <tr>\n",
       "      <th>일</th>\n",
       "      <td>7764</td>\n",
       "      <td>18427</td>\n",
       "      <td>25264</td>\n",
       "      <td>22878</td>\n",
       "      <td>8743</td>\n",
       "      <td>4711</td>\n",
       "    </tr>\n",
       "  </tbody>\n",
       "</table>\n",
       "</div>"
      ],
      "text/plain": [
       "연령대  10대    20대    30대    40대    50대  60대이상\n",
       "월    5247  12439  15273  12690   6253   3617\n",
       "화    7234  17127  21760  19244   8588   4944\n",
       "수    7649  17280  23491  20695   9033   5089\n",
       "목    6652  14299  19356  17501   7611   4057\n",
       "금    7979  16736  26483  24103   8866   4735\n",
       "토    9580  19861  28373  27296  10244   5364\n",
       "일    7764  18427  25264  22878   8743   4711"
      ]
     },
     "execution_count": 64,
     "metadata": {},
     "output_type": "execute_result"
    }
   ],
   "source": [
    "pd.DataFrame(df3, index=['월', '화', '수', '목', '금', '토', '일'])"
   ]
  },
  {
   "cell_type": "markdown",
   "metadata": {},
   "source": [
    "## 11월 한달간 중국집 이용 연령별, 요일별 통화건수"
   ]
  },
  {
   "cell_type": "code",
   "execution_count": 65,
   "metadata": {
    "collapsed": false,
    "scrolled": false
   },
   "outputs": [
    {
     "data": {
      "text/html": [
       "<div>\n",
       "<table border=\"1\" class=\"dataframe\">\n",
       "  <thead>\n",
       "    <tr style=\"text-align: right;\">\n",
       "      <th>연령대</th>\n",
       "      <th>10대</th>\n",
       "      <th>20대</th>\n",
       "      <th>30대</th>\n",
       "      <th>40대</th>\n",
       "      <th>50대</th>\n",
       "      <th>60대이상</th>\n",
       "    </tr>\n",
       "    <tr>\n",
       "      <th>요일</th>\n",
       "      <th></th>\n",
       "      <th></th>\n",
       "      <th></th>\n",
       "      <th></th>\n",
       "      <th></th>\n",
       "      <th></th>\n",
       "    </tr>\n",
       "  </thead>\n",
       "  <tbody>\n",
       "    <tr>\n",
       "      <th>금</th>\n",
       "      <td>3876</td>\n",
       "      <td>11147</td>\n",
       "      <td>18115</td>\n",
       "      <td>17128</td>\n",
       "      <td>10849</td>\n",
       "      <td>7473</td>\n",
       "    </tr>\n",
       "    <tr>\n",
       "      <th>목</th>\n",
       "      <td>3824</td>\n",
       "      <td>10793</td>\n",
       "      <td>16849</td>\n",
       "      <td>16540</td>\n",
       "      <td>10203</td>\n",
       "      <td>7151</td>\n",
       "    </tr>\n",
       "    <tr>\n",
       "      <th>수</th>\n",
       "      <td>4609</td>\n",
       "      <td>13678</td>\n",
       "      <td>20968</td>\n",
       "      <td>20297</td>\n",
       "      <td>12624</td>\n",
       "      <td>8608</td>\n",
       "    </tr>\n",
       "    <tr>\n",
       "      <th>월</th>\n",
       "      <td>3273</td>\n",
       "      <td>10334</td>\n",
       "      <td>15159</td>\n",
       "      <td>14666</td>\n",
       "      <td>9540</td>\n",
       "      <td>6804</td>\n",
       "    </tr>\n",
       "    <tr>\n",
       "      <th>일</th>\n",
       "      <td>4710</td>\n",
       "      <td>13619</td>\n",
       "      <td>23433</td>\n",
       "      <td>22605</td>\n",
       "      <td>11994</td>\n",
       "      <td>7659</td>\n",
       "    </tr>\n",
       "    <tr>\n",
       "      <th>토</th>\n",
       "      <td>5064</td>\n",
       "      <td>13522</td>\n",
       "      <td>23895</td>\n",
       "      <td>24100</td>\n",
       "      <td>12533</td>\n",
       "      <td>8336</td>\n",
       "    </tr>\n",
       "    <tr>\n",
       "      <th>화</th>\n",
       "      <td>4232</td>\n",
       "      <td>13275</td>\n",
       "      <td>19895</td>\n",
       "      <td>19036</td>\n",
       "      <td>12390</td>\n",
       "      <td>8625</td>\n",
       "    </tr>\n",
       "  </tbody>\n",
       "</table>\n",
       "</div>"
      ],
      "text/plain": [
       "연령대  10대    20대    30대    40대    50대  60대이상\n",
       "요일                                          \n",
       "금    3876  11147  18115  17128  10849   7473\n",
       "목    3824  10793  16849  16540  10203   7151\n",
       "수    4609  13678  20968  20297  12624   8608\n",
       "월    3273  10334  15159  14666   9540   6804\n",
       "일    4710  13619  23433  22605  11994   7659\n",
       "토    5064  13522  23895  24100  12533   8336\n",
       "화    4232  13275  19895  19036  12390   8625"
      ]
     },
     "execution_count": 65,
     "metadata": {},
     "output_type": "execute_result"
    }
   ],
   "source": [
    "df2 = pd.pivot_table(df2,'통화건수', aggfunc = sum, index=['요일'], columns='연령대')\n",
    "df4 = df2[['10대', '20대', '30대', '40대', '50대', '60대이상']] \n",
    "df4"
   ]
  },
  {
   "cell_type": "code",
   "execution_count": 66,
   "metadata": {
    "collapsed": false,
    "scrolled": true
   },
   "outputs": [
    {
     "data": {
      "text/html": [
       "<div>\n",
       "<table border=\"1\" class=\"dataframe\">\n",
       "  <thead>\n",
       "    <tr style=\"text-align: right;\">\n",
       "      <th>연령대</th>\n",
       "      <th>10대</th>\n",
       "      <th>20대</th>\n",
       "      <th>30대</th>\n",
       "      <th>40대</th>\n",
       "      <th>50대</th>\n",
       "      <th>60대이상</th>\n",
       "    </tr>\n",
       "  </thead>\n",
       "  <tbody>\n",
       "    <tr>\n",
       "      <th>월</th>\n",
       "      <td>3273</td>\n",
       "      <td>10334</td>\n",
       "      <td>15159</td>\n",
       "      <td>14666</td>\n",
       "      <td>9540</td>\n",
       "      <td>6804</td>\n",
       "    </tr>\n",
       "    <tr>\n",
       "      <th>화</th>\n",
       "      <td>4232</td>\n",
       "      <td>13275</td>\n",
       "      <td>19895</td>\n",
       "      <td>19036</td>\n",
       "      <td>12390</td>\n",
       "      <td>8625</td>\n",
       "    </tr>\n",
       "    <tr>\n",
       "      <th>수</th>\n",
       "      <td>4609</td>\n",
       "      <td>13678</td>\n",
       "      <td>20968</td>\n",
       "      <td>20297</td>\n",
       "      <td>12624</td>\n",
       "      <td>8608</td>\n",
       "    </tr>\n",
       "    <tr>\n",
       "      <th>목</th>\n",
       "      <td>3824</td>\n",
       "      <td>10793</td>\n",
       "      <td>16849</td>\n",
       "      <td>16540</td>\n",
       "      <td>10203</td>\n",
       "      <td>7151</td>\n",
       "    </tr>\n",
       "    <tr>\n",
       "      <th>금</th>\n",
       "      <td>3876</td>\n",
       "      <td>11147</td>\n",
       "      <td>18115</td>\n",
       "      <td>17128</td>\n",
       "      <td>10849</td>\n",
       "      <td>7473</td>\n",
       "    </tr>\n",
       "    <tr>\n",
       "      <th>토</th>\n",
       "      <td>5064</td>\n",
       "      <td>13522</td>\n",
       "      <td>23895</td>\n",
       "      <td>24100</td>\n",
       "      <td>12533</td>\n",
       "      <td>8336</td>\n",
       "    </tr>\n",
       "    <tr>\n",
       "      <th>일</th>\n",
       "      <td>4710</td>\n",
       "      <td>13619</td>\n",
       "      <td>23433</td>\n",
       "      <td>22605</td>\n",
       "      <td>11994</td>\n",
       "      <td>7659</td>\n",
       "    </tr>\n",
       "  </tbody>\n",
       "</table>\n",
       "</div>"
      ],
      "text/plain": [
       "연령대  10대    20대    30대    40대    50대  60대이상\n",
       "월    3273  10334  15159  14666   9540   6804\n",
       "화    4232  13275  19895  19036  12390   8625\n",
       "수    4609  13678  20968  20297  12624   8608\n",
       "목    3824  10793  16849  16540  10203   7151\n",
       "금    3876  11147  18115  17128  10849   7473\n",
       "토    5064  13522  23895  24100  12533   8336\n",
       "일    4710  13619  23433  22605  11994   7659"
      ]
     },
     "execution_count": 66,
     "metadata": {},
     "output_type": "execute_result"
    }
   ],
   "source": [
    "pd.DataFrame(df4, index=['월', '화', '수', '목', '금', '토', '일'])"
   ]
  },
  {
   "cell_type": "markdown",
   "metadata": {},
   "source": [
    "- 치킨 이용현황 바차트"
   ]
  },
  {
   "cell_type": "code",
   "execution_count": 67,
   "metadata": {
    "collapsed": false,
    "scrolled": false
   },
   "outputs": [
    {
     "data": {
      "image/png": "[encoded data removed]",
      "text/plain": [
       "<matplotlib.figure.Figure at 0xa762c10>"
      ]
     },
     "metadata": {},
     "output_type": "display_data"
    }
   ],
   "source": [
    "df3.plot(kind='barh', figsize = (9, 20))\n",
    "plt.show()"
   ]
  },
  {
   "cell_type": "markdown",
   "metadata": {},
   "source": [
    "- 중국집 이용현황 바차트"
   ]
  },
  {
   "cell_type": "code",
   "execution_count": 50,
   "metadata": {
    "collapsed": false,
    "scrolled": false
   },
   "outputs": [
    {
     "data": {
      "image/png": "[encoded data removed]",
      "text/plain": [
       "<matplotlib.figure.Figure at 0xa990ad0>"
      ]
     },
     "metadata": {},
     "output_type": "display_data"
    }
   ],
   "source": [
    "df4.plot(kind='barh', figsize = (9, 20))\n",
    "plt.show()"
   ]
  },
  {
   "cell_type": "code",
   "execution_count": 70,
   "metadata": {
    "collapsed": false,
    "scrolled": false
   },
   "outputs": [
    {
     "data": {
      "text/html": [
       "<div>\n",
       "<table border=\"1\" class=\"dataframe\">\n",
       "  <thead>\n",
       "    <tr style=\"text-align: right;\">\n",
       "      <th></th>\n",
       "      <th>10대</th>\n",
       "      <th>20대</th>\n",
       "      <th>30대</th>\n",
       "      <th>40대</th>\n",
       "      <th>50대</th>\n",
       "      <th>60대이상</th>\n",
       "      <th>합계</th>\n",
       "    </tr>\n",
       "  </thead>\n",
       "  <tbody>\n",
       "    <tr>\n",
       "      <th>월</th>\n",
       "      <td>5247.0</td>\n",
       "      <td>12439.0</td>\n",
       "      <td>15273.0</td>\n",
       "      <td>12690.0</td>\n",
       "      <td>6253.0</td>\n",
       "      <td>3617.0</td>\n",
       "      <td>55519.0</td>\n",
       "    </tr>\n",
       "    <tr>\n",
       "      <th>화</th>\n",
       "      <td>7234.0</td>\n",
       "      <td>17127.0</td>\n",
       "      <td>21760.0</td>\n",
       "      <td>19244.0</td>\n",
       "      <td>8588.0</td>\n",
       "      <td>4944.0</td>\n",
       "      <td>78897.0</td>\n",
       "    </tr>\n",
       "    <tr>\n",
       "      <th>수</th>\n",
       "      <td>7649.0</td>\n",
       "      <td>17280.0</td>\n",
       "      <td>23491.0</td>\n",
       "      <td>20695.0</td>\n",
       "      <td>9033.0</td>\n",
       "      <td>5089.0</td>\n",
       "      <td>83237.0</td>\n",
       "    </tr>\n",
       "    <tr>\n",
       "      <th>목</th>\n",
       "      <td>6652.0</td>\n",
       "      <td>14299.0</td>\n",
       "      <td>19356.0</td>\n",
       "      <td>17501.0</td>\n",
       "      <td>7611.0</td>\n",
       "      <td>4057.0</td>\n",
       "      <td>69476.0</td>\n",
       "    </tr>\n",
       "    <tr>\n",
       "      <th>금</th>\n",
       "      <td>7979.0</td>\n",
       "      <td>16736.0</td>\n",
       "      <td>26483.0</td>\n",
       "      <td>24103.0</td>\n",
       "      <td>8866.0</td>\n",
       "      <td>4735.0</td>\n",
       "      <td>88902.0</td>\n",
       "    </tr>\n",
       "    <tr>\n",
       "      <th>토</th>\n",
       "      <td>9580.0</td>\n",
       "      <td>19861.0</td>\n",
       "      <td>28373.0</td>\n",
       "      <td>27296.0</td>\n",
       "      <td>10244.0</td>\n",
       "      <td>5364.0</td>\n",
       "      <td>100718.0</td>\n",
       "    </tr>\n",
       "    <tr>\n",
       "      <th>일</th>\n",
       "      <td>7764.0</td>\n",
       "      <td>18427.0</td>\n",
       "      <td>25264.0</td>\n",
       "      <td>22878.0</td>\n",
       "      <td>8743.0</td>\n",
       "      <td>4711.0</td>\n",
       "      <td>87787.0</td>\n",
       "    </tr>\n",
       "    <tr>\n",
       "      <th>합계</th>\n",
       "      <td>52105.0</td>\n",
       "      <td>116169.0</td>\n",
       "      <td>160000.0</td>\n",
       "      <td>144407.0</td>\n",
       "      <td>59338.0</td>\n",
       "      <td>32517.0</td>\n",
       "      <td>564536.0</td>\n",
       "    </tr>\n",
       "  </tbody>\n",
       "</table>\n",
       "</div>"
      ],
      "text/plain": [
       "        10대       20대       30대       40대      50대    60대이상        합계\n",
       "월    5247.0   12439.0   15273.0   12690.0   6253.0   3617.0   55519.0\n",
       "화    7234.0   17127.0   21760.0   19244.0   8588.0   4944.0   78897.0\n",
       "수    7649.0   17280.0   23491.0   20695.0   9033.0   5089.0   83237.0\n",
       "목    6652.0   14299.0   19356.0   17501.0   7611.0   4057.0   69476.0\n",
       "금    7979.0   16736.0   26483.0   24103.0   8866.0   4735.0   88902.0\n",
       "토    9580.0   19861.0   28373.0   27296.0  10244.0   5364.0  100718.0\n",
       "일    7764.0   18427.0   25264.0   22878.0   8743.0   4711.0   87787.0\n",
       "합계  52105.0  116169.0  160000.0  144407.0  59338.0  32517.0  564536.0"
      ]
     },
     "execution_count": 70,
     "metadata": {},
     "output_type": "execute_result"
    }
   ],
   "source": [
    "df3 = pd.DataFrame(df3, \n",
    "                   columns=['10대', '20대', '30대', '40대', '50대', '60대이상', '합계'],\n",
    "                   index=['월', '화', '수', '목', '금', '토', '일', '합계'])\n",
    "\n",
    "df3[\"합계\"] = df3.sum(axis=1)\n",
    "df3.ix['합계'] = df3.sum()\n",
    "df3"
   ]
  },
  {
   "cell_type": "code",
   "execution_count": 71,
   "metadata": {
    "collapsed": false
   },
   "outputs": [
    {
     "data": {
      "text/html": [
       "<div>\n",
       "<table border=\"1\" class=\"dataframe\">\n",
       "  <thead>\n",
       "    <tr style=\"text-align: right;\">\n",
       "      <th></th>\n",
       "      <th>10대</th>\n",
       "      <th>20대</th>\n",
       "      <th>30대</th>\n",
       "      <th>40대</th>\n",
       "      <th>50대</th>\n",
       "      <th>60대이상</th>\n",
       "      <th>합계</th>\n",
       "    </tr>\n",
       "  </thead>\n",
       "  <tbody>\n",
       "    <tr>\n",
       "      <th>월</th>\n",
       "      <td>3273.0</td>\n",
       "      <td>10334.0</td>\n",
       "      <td>15159.0</td>\n",
       "      <td>14666.0</td>\n",
       "      <td>9540.0</td>\n",
       "      <td>6804.0</td>\n",
       "      <td>59776.0</td>\n",
       "    </tr>\n",
       "    <tr>\n",
       "      <th>화</th>\n",
       "      <td>4232.0</td>\n",
       "      <td>13275.0</td>\n",
       "      <td>19895.0</td>\n",
       "      <td>19036.0</td>\n",
       "      <td>12390.0</td>\n",
       "      <td>8625.0</td>\n",
       "      <td>77453.0</td>\n",
       "    </tr>\n",
       "    <tr>\n",
       "      <th>수</th>\n",
       "      <td>4609.0</td>\n",
       "      <td>13678.0</td>\n",
       "      <td>20968.0</td>\n",
       "      <td>20297.0</td>\n",
       "      <td>12624.0</td>\n",
       "      <td>8608.0</td>\n",
       "      <td>80784.0</td>\n",
       "    </tr>\n",
       "    <tr>\n",
       "      <th>목</th>\n",
       "      <td>3824.0</td>\n",
       "      <td>10793.0</td>\n",
       "      <td>16849.0</td>\n",
       "      <td>16540.0</td>\n",
       "      <td>10203.0</td>\n",
       "      <td>7151.0</td>\n",
       "      <td>65360.0</td>\n",
       "    </tr>\n",
       "    <tr>\n",
       "      <th>금</th>\n",
       "      <td>3876.0</td>\n",
       "      <td>11147.0</td>\n",
       "      <td>18115.0</td>\n",
       "      <td>17128.0</td>\n",
       "      <td>10849.0</td>\n",
       "      <td>7473.0</td>\n",
       "      <td>68588.0</td>\n",
       "    </tr>\n",
       "    <tr>\n",
       "      <th>토</th>\n",
       "      <td>5064.0</td>\n",
       "      <td>13522.0</td>\n",
       "      <td>23895.0</td>\n",
       "      <td>24100.0</td>\n",
       "      <td>12533.0</td>\n",
       "      <td>8336.0</td>\n",
       "      <td>87450.0</td>\n",
       "    </tr>\n",
       "    <tr>\n",
       "      <th>일</th>\n",
       "      <td>4710.0</td>\n",
       "      <td>13619.0</td>\n",
       "      <td>23433.0</td>\n",
       "      <td>22605.0</td>\n",
       "      <td>11994.0</td>\n",
       "      <td>7659.0</td>\n",
       "      <td>84020.0</td>\n",
       "    </tr>\n",
       "    <tr>\n",
       "      <th>합계</th>\n",
       "      <td>29588.0</td>\n",
       "      <td>86368.0</td>\n",
       "      <td>138314.0</td>\n",
       "      <td>134372.0</td>\n",
       "      <td>80133.0</td>\n",
       "      <td>54656.0</td>\n",
       "      <td>523431.0</td>\n",
       "    </tr>\n",
       "  </tbody>\n",
       "</table>\n",
       "</div>"
      ],
      "text/plain": [
       "        10대      20대       30대       40대      50대    60대이상        합계\n",
       "월    3273.0  10334.0   15159.0   14666.0   9540.0   6804.0   59776.0\n",
       "화    4232.0  13275.0   19895.0   19036.0  12390.0   8625.0   77453.0\n",
       "수    4609.0  13678.0   20968.0   20297.0  12624.0   8608.0   80784.0\n",
       "목    3824.0  10793.0   16849.0   16540.0  10203.0   7151.0   65360.0\n",
       "금    3876.0  11147.0   18115.0   17128.0  10849.0   7473.0   68588.0\n",
       "토    5064.0  13522.0   23895.0   24100.0  12533.0   8336.0   87450.0\n",
       "일    4710.0  13619.0   23433.0   22605.0  11994.0   7659.0   84020.0\n",
       "합계  29588.0  86368.0  138314.0  134372.0  80133.0  54656.0  523431.0"
      ]
     },
     "execution_count": 71,
     "metadata": {},
     "output_type": "execute_result"
    }
   ],
   "source": [
    "df4 = pd.DataFrame(df4, \n",
    "                   columns=['10대', '20대', '30대', '40대', '50대', '60대이상', '합계'],\n",
    "                   index=['월', '화', '수', '목', '금', '토', '일', '합계'])\n",
    "\n",
    "df4[\"합계\"] = df4.sum(axis=1)\n",
    "df4.ix['합계'] = df4.sum()\n",
    "df4"
   ]
  },
  {
   "cell_type": "markdown",
   "metadata": {},
   "source": [
    "## 치킨집 이용과 중국집 이용 현황을 보게되면 대체로 30대의 구매비율이 가장 높고 그 다음 40대의 구매비율이 높은것을 볼 수 있다"
   ]
  },
  {
   "cell_type": "code",
   "execution_count": 72,
   "metadata": {
    "collapsed": false,
    "scrolled": true
   },
   "outputs": [
    {
     "data": {
      "text/html": [
       "<div>\n",
       "<table border=\"1\" class=\"dataframe\">\n",
       "  <thead>\n",
       "    <tr style=\"text-align: right;\">\n",
       "      <th></th>\n",
       "      <th>10대</th>\n",
       "      <th>20대</th>\n",
       "      <th>30대</th>\n",
       "      <th>40대</th>\n",
       "      <th>50대</th>\n",
       "      <th>60대이상</th>\n",
       "      <th>합계</th>\n",
       "    </tr>\n",
       "  </thead>\n",
       "  <tbody>\n",
       "    <tr>\n",
       "      <th>월</th>\n",
       "      <td>5247.0</td>\n",
       "      <td>12439.0</td>\n",
       "      <td>15273.0</td>\n",
       "      <td>12690.0</td>\n",
       "      <td>6253.0</td>\n",
       "      <td>3617.0</td>\n",
       "      <td>55519.0</td>\n",
       "    </tr>\n",
       "    <tr>\n",
       "      <th>화</th>\n",
       "      <td>7234.0</td>\n",
       "      <td>17127.0</td>\n",
       "      <td>21760.0</td>\n",
       "      <td>19244.0</td>\n",
       "      <td>8588.0</td>\n",
       "      <td>4944.0</td>\n",
       "      <td>78897.0</td>\n",
       "    </tr>\n",
       "    <tr>\n",
       "      <th>수</th>\n",
       "      <td>7649.0</td>\n",
       "      <td>17280.0</td>\n",
       "      <td>23491.0</td>\n",
       "      <td>20695.0</td>\n",
       "      <td>9033.0</td>\n",
       "      <td>5089.0</td>\n",
       "      <td>83237.0</td>\n",
       "    </tr>\n",
       "    <tr>\n",
       "      <th>목</th>\n",
       "      <td>6652.0</td>\n",
       "      <td>14299.0</td>\n",
       "      <td>19356.0</td>\n",
       "      <td>17501.0</td>\n",
       "      <td>7611.0</td>\n",
       "      <td>4057.0</td>\n",
       "      <td>69476.0</td>\n",
       "    </tr>\n",
       "    <tr>\n",
       "      <th>금</th>\n",
       "      <td>7979.0</td>\n",
       "      <td>16736.0</td>\n",
       "      <td>26483.0</td>\n",
       "      <td>24103.0</td>\n",
       "      <td>8866.0</td>\n",
       "      <td>4735.0</td>\n",
       "      <td>88902.0</td>\n",
       "    </tr>\n",
       "    <tr>\n",
       "      <th>토</th>\n",
       "      <td>9580.0</td>\n",
       "      <td>19861.0</td>\n",
       "      <td>28373.0</td>\n",
       "      <td>27296.0</td>\n",
       "      <td>10244.0</td>\n",
       "      <td>5364.0</td>\n",
       "      <td>100718.0</td>\n",
       "    </tr>\n",
       "    <tr>\n",
       "      <th>일</th>\n",
       "      <td>7764.0</td>\n",
       "      <td>18427.0</td>\n",
       "      <td>25264.0</td>\n",
       "      <td>22878.0</td>\n",
       "      <td>8743.0</td>\n",
       "      <td>4711.0</td>\n",
       "      <td>87787.0</td>\n",
       "    </tr>\n",
       "    <tr>\n",
       "      <th>합계</th>\n",
       "      <td>52105.0</td>\n",
       "      <td>116169.0</td>\n",
       "      <td>160000.0</td>\n",
       "      <td>144407.0</td>\n",
       "      <td>59338.0</td>\n",
       "      <td>32517.0</td>\n",
       "      <td>564536.0</td>\n",
       "    </tr>\n",
       "  </tbody>\n",
       "</table>\n",
       "</div>"
      ],
      "text/plain": [
       "        10대       20대       30대       40대      50대    60대이상        합계\n",
       "월    5247.0   12439.0   15273.0   12690.0   6253.0   3617.0   55519.0\n",
       "화    7234.0   17127.0   21760.0   19244.0   8588.0   4944.0   78897.0\n",
       "수    7649.0   17280.0   23491.0   20695.0   9033.0   5089.0   83237.0\n",
       "목    6652.0   14299.0   19356.0   17501.0   7611.0   4057.0   69476.0\n",
       "금    7979.0   16736.0   26483.0   24103.0   8866.0   4735.0   88902.0\n",
       "토    9580.0   19861.0   28373.0   27296.0  10244.0   5364.0  100718.0\n",
       "일    7764.0   18427.0   25264.0   22878.0   8743.0   4711.0   87787.0\n",
       "합계  52105.0  116169.0  160000.0  144407.0  59338.0  32517.0  564536.0"
      ]
     },
     "execution_count": 72,
     "metadata": {},
     "output_type": "execute_result"
    }
   ],
   "source": [
    "from pandas import Series, DataFrame\n",
    "\n",
    "frame1 = DataFrame(df3)\n",
    "frame1"
   ]
  },
  {
   "cell_type": "markdown",
   "metadata": {},
   "source": [
    "### 한글 columns사용시 일부 함수가 적용되지 않아, 영문 Columns으로 변경해서 분석을 진행했다"
   ]
  },
  {
   "cell_type": "code",
   "execution_count": 74,
   "metadata": {
    "collapsed": false
   },
   "outputs": [
    {
     "data": {
      "text/html": [
       "<div>\n",
       "<table border=\"1\" class=\"dataframe\">\n",
       "  <thead>\n",
       "    <tr style=\"text-align: right;\">\n",
       "      <th></th>\n",
       "      <th>10yr</th>\n",
       "      <th>20yr</th>\n",
       "      <th>30yr</th>\n",
       "      <th>40yr</th>\n",
       "      <th>50yr</th>\n",
       "      <th>over60yr</th>\n",
       "      <th>total</th>\n",
       "    </tr>\n",
       "  </thead>\n",
       "  <tbody>\n",
       "    <tr>\n",
       "      <th>월</th>\n",
       "      <td>5247.0</td>\n",
       "      <td>12439.0</td>\n",
       "      <td>15273.0</td>\n",
       "      <td>12690.0</td>\n",
       "      <td>6253.0</td>\n",
       "      <td>3617.0</td>\n",
       "      <td>55519.0</td>\n",
       "    </tr>\n",
       "    <tr>\n",
       "      <th>화</th>\n",
       "      <td>7234.0</td>\n",
       "      <td>17127.0</td>\n",
       "      <td>21760.0</td>\n",
       "      <td>19244.0</td>\n",
       "      <td>8588.0</td>\n",
       "      <td>4944.0</td>\n",
       "      <td>78897.0</td>\n",
       "    </tr>\n",
       "    <tr>\n",
       "      <th>수</th>\n",
       "      <td>7649.0</td>\n",
       "      <td>17280.0</td>\n",
       "      <td>23491.0</td>\n",
       "      <td>20695.0</td>\n",
       "      <td>9033.0</td>\n",
       "      <td>5089.0</td>\n",
       "      <td>83237.0</td>\n",
       "    </tr>\n",
       "    <tr>\n",
       "      <th>목</th>\n",
       "      <td>6652.0</td>\n",
       "      <td>14299.0</td>\n",
       "      <td>19356.0</td>\n",
       "      <td>17501.0</td>\n",
       "      <td>7611.0</td>\n",
       "      <td>4057.0</td>\n",
       "      <td>69476.0</td>\n",
       "    </tr>\n",
       "    <tr>\n",
       "      <th>금</th>\n",
       "      <td>7979.0</td>\n",
       "      <td>16736.0</td>\n",
       "      <td>26483.0</td>\n",
       "      <td>24103.0</td>\n",
       "      <td>8866.0</td>\n",
       "      <td>4735.0</td>\n",
       "      <td>88902.0</td>\n",
       "    </tr>\n",
       "    <tr>\n",
       "      <th>토</th>\n",
       "      <td>9580.0</td>\n",
       "      <td>19861.0</td>\n",
       "      <td>28373.0</td>\n",
       "      <td>27296.0</td>\n",
       "      <td>10244.0</td>\n",
       "      <td>5364.0</td>\n",
       "      <td>100718.0</td>\n",
       "    </tr>\n",
       "    <tr>\n",
       "      <th>일</th>\n",
       "      <td>7764.0</td>\n",
       "      <td>18427.0</td>\n",
       "      <td>25264.0</td>\n",
       "      <td>22878.0</td>\n",
       "      <td>8743.0</td>\n",
       "      <td>4711.0</td>\n",
       "      <td>87787.0</td>\n",
       "    </tr>\n",
       "    <tr>\n",
       "      <th>합계</th>\n",
       "      <td>52105.0</td>\n",
       "      <td>116169.0</td>\n",
       "      <td>160000.0</td>\n",
       "      <td>144407.0</td>\n",
       "      <td>59338.0</td>\n",
       "      <td>32517.0</td>\n",
       "      <td>564536.0</td>\n",
       "    </tr>\n",
       "  </tbody>\n",
       "</table>\n",
       "</div>"
      ],
      "text/plain": [
       "       10yr      20yr      30yr      40yr     50yr  over60yr     total\n",
       "월    5247.0   12439.0   15273.0   12690.0   6253.0    3617.0   55519.0\n",
       "화    7234.0   17127.0   21760.0   19244.0   8588.0    4944.0   78897.0\n",
       "수    7649.0   17280.0   23491.0   20695.0   9033.0    5089.0   83237.0\n",
       "목    6652.0   14299.0   19356.0   17501.0   7611.0    4057.0   69476.0\n",
       "금    7979.0   16736.0   26483.0   24103.0   8866.0    4735.0   88902.0\n",
       "토    9580.0   19861.0   28373.0   27296.0  10244.0    5364.0  100718.0\n",
       "일    7764.0   18427.0   25264.0   22878.0   8743.0    4711.0   87787.0\n",
       "합계  52105.0  116169.0  160000.0  144407.0  59338.0   32517.0  564536.0"
      ]
     },
     "execution_count": 74,
     "metadata": {},
     "output_type": "execute_result"
    }
   ],
   "source": [
    "df3.columns = ['10yr', '20yr', '30yr', '40yr', '50yr', 'over60yr', 'total']\n",
    "df3"
   ]
  },
  {
   "cell_type": "code",
   "execution_count": 76,
   "metadata": {
    "collapsed": false,
    "scrolled": false
   },
   "outputs": [
    {
     "data": {
      "text/html": [
       "<div>\n",
       "<table border=\"1\" class=\"dataframe\">\n",
       "  <thead>\n",
       "    <tr style=\"text-align: right;\">\n",
       "      <th></th>\n",
       "      <th>10yr</th>\n",
       "      <th>20yr</th>\n",
       "      <th>30yr</th>\n",
       "      <th>40yr</th>\n",
       "      <th>50yr</th>\n",
       "      <th>over60yr</th>\n",
       "      <th>total</th>\n",
       "    </tr>\n",
       "  </thead>\n",
       "  <tbody>\n",
       "    <tr>\n",
       "      <th>monday</th>\n",
       "      <td>5247.0</td>\n",
       "      <td>12439.0</td>\n",
       "      <td>15273.0</td>\n",
       "      <td>12690.0</td>\n",
       "      <td>6253.0</td>\n",
       "      <td>3617.0</td>\n",
       "      <td>55519.0</td>\n",
       "    </tr>\n",
       "    <tr>\n",
       "      <th>tuesday</th>\n",
       "      <td>7234.0</td>\n",
       "      <td>17127.0</td>\n",
       "      <td>21760.0</td>\n",
       "      <td>19244.0</td>\n",
       "      <td>8588.0</td>\n",
       "      <td>4944.0</td>\n",
       "      <td>78897.0</td>\n",
       "    </tr>\n",
       "    <tr>\n",
       "      <th>wendsday</th>\n",
       "      <td>7649.0</td>\n",
       "      <td>17280.0</td>\n",
       "      <td>23491.0</td>\n",
       "      <td>20695.0</td>\n",
       "      <td>9033.0</td>\n",
       "      <td>5089.0</td>\n",
       "      <td>83237.0</td>\n",
       "    </tr>\n",
       "    <tr>\n",
       "      <th>tursday</th>\n",
       "      <td>6652.0</td>\n",
       "      <td>14299.0</td>\n",
       "      <td>19356.0</td>\n",
       "      <td>17501.0</td>\n",
       "      <td>7611.0</td>\n",
       "      <td>4057.0</td>\n",
       "      <td>69476.0</td>\n",
       "    </tr>\n",
       "    <tr>\n",
       "      <th>friday</th>\n",
       "      <td>7979.0</td>\n",
       "      <td>16736.0</td>\n",
       "      <td>26483.0</td>\n",
       "      <td>24103.0</td>\n",
       "      <td>8866.0</td>\n",
       "      <td>4735.0</td>\n",
       "      <td>88902.0</td>\n",
       "    </tr>\n",
       "    <tr>\n",
       "      <th>saturday</th>\n",
       "      <td>9580.0</td>\n",
       "      <td>19861.0</td>\n",
       "      <td>28373.0</td>\n",
       "      <td>27296.0</td>\n",
       "      <td>10244.0</td>\n",
       "      <td>5364.0</td>\n",
       "      <td>100718.0</td>\n",
       "    </tr>\n",
       "    <tr>\n",
       "      <th>sunday</th>\n",
       "      <td>7764.0</td>\n",
       "      <td>18427.0</td>\n",
       "      <td>25264.0</td>\n",
       "      <td>22878.0</td>\n",
       "      <td>8743.0</td>\n",
       "      <td>4711.0</td>\n",
       "      <td>87787.0</td>\n",
       "    </tr>\n",
       "    <tr>\n",
       "      <th>Total</th>\n",
       "      <td>52105.0</td>\n",
       "      <td>116169.0</td>\n",
       "      <td>160000.0</td>\n",
       "      <td>144407.0</td>\n",
       "      <td>59338.0</td>\n",
       "      <td>32517.0</td>\n",
       "      <td>564536.0</td>\n",
       "    </tr>\n",
       "  </tbody>\n",
       "</table>\n",
       "</div>"
      ],
      "text/plain": [
       "             10yr      20yr      30yr      40yr     50yr  over60yr     total\n",
       "monday     5247.0   12439.0   15273.0   12690.0   6253.0    3617.0   55519.0\n",
       "tuesday    7234.0   17127.0   21760.0   19244.0   8588.0    4944.0   78897.0\n",
       "wendsday   7649.0   17280.0   23491.0   20695.0   9033.0    5089.0   83237.0\n",
       "tursday    6652.0   14299.0   19356.0   17501.0   7611.0    4057.0   69476.0\n",
       "friday     7979.0   16736.0   26483.0   24103.0   8866.0    4735.0   88902.0\n",
       "saturday   9580.0   19861.0   28373.0   27296.0  10244.0    5364.0  100718.0\n",
       "sunday     7764.0   18427.0   25264.0   22878.0   8743.0    4711.0   87787.0\n",
       "Total     52105.0  116169.0  160000.0  144407.0  59338.0   32517.0  564536.0"
      ]
     },
     "execution_count": 76,
     "metadata": {},
     "output_type": "execute_result"
    }
   ],
   "source": [
    "df3.index = ['monday', 'tuesday', 'wendsday', 'tursday', 'friday', 'saturday', 'sunday', 'Total']  \n",
    "df3"
   ]
  },
  {
   "cell_type": "code",
   "execution_count": 77,
   "metadata": {
    "collapsed": false
   },
   "outputs": [
    {
     "data": {
      "text/html": [
       "<div>\n",
       "<table border=\"1\" class=\"dataframe\">\n",
       "  <thead>\n",
       "    <tr style=\"text-align: right;\">\n",
       "      <th></th>\n",
       "      <th>10y</th>\n",
       "      <th>20y</th>\n",
       "      <th>30y</th>\n",
       "      <th>40y</th>\n",
       "      <th>50y</th>\n",
       "      <th>over60y</th>\n",
       "      <th>total</th>\n",
       "    </tr>\n",
       "  </thead>\n",
       "  <tbody>\n",
       "    <tr>\n",
       "      <th>월</th>\n",
       "      <td>3273.0</td>\n",
       "      <td>10334.0</td>\n",
       "      <td>15159.0</td>\n",
       "      <td>14666.0</td>\n",
       "      <td>9540.0</td>\n",
       "      <td>6804.0</td>\n",
       "      <td>59776.0</td>\n",
       "    </tr>\n",
       "    <tr>\n",
       "      <th>화</th>\n",
       "      <td>4232.0</td>\n",
       "      <td>13275.0</td>\n",
       "      <td>19895.0</td>\n",
       "      <td>19036.0</td>\n",
       "      <td>12390.0</td>\n",
       "      <td>8625.0</td>\n",
       "      <td>77453.0</td>\n",
       "    </tr>\n",
       "    <tr>\n",
       "      <th>수</th>\n",
       "      <td>4609.0</td>\n",
       "      <td>13678.0</td>\n",
       "      <td>20968.0</td>\n",
       "      <td>20297.0</td>\n",
       "      <td>12624.0</td>\n",
       "      <td>8608.0</td>\n",
       "      <td>80784.0</td>\n",
       "    </tr>\n",
       "    <tr>\n",
       "      <th>목</th>\n",
       "      <td>3824.0</td>\n",
       "      <td>10793.0</td>\n",
       "      <td>16849.0</td>\n",
       "      <td>16540.0</td>\n",
       "      <td>10203.0</td>\n",
       "      <td>7151.0</td>\n",
       "      <td>65360.0</td>\n",
       "    </tr>\n",
       "    <tr>\n",
       "      <th>금</th>\n",
       "      <td>3876.0</td>\n",
       "      <td>11147.0</td>\n",
       "      <td>18115.0</td>\n",
       "      <td>17128.0</td>\n",
       "      <td>10849.0</td>\n",
       "      <td>7473.0</td>\n",
       "      <td>68588.0</td>\n",
       "    </tr>\n",
       "    <tr>\n",
       "      <th>토</th>\n",
       "      <td>5064.0</td>\n",
       "      <td>13522.0</td>\n",
       "      <td>23895.0</td>\n",
       "      <td>24100.0</td>\n",
       "      <td>12533.0</td>\n",
       "      <td>8336.0</td>\n",
       "      <td>87450.0</td>\n",
       "    </tr>\n",
       "    <tr>\n",
       "      <th>일</th>\n",
       "      <td>4710.0</td>\n",
       "      <td>13619.0</td>\n",
       "      <td>23433.0</td>\n",
       "      <td>22605.0</td>\n",
       "      <td>11994.0</td>\n",
       "      <td>7659.0</td>\n",
       "      <td>84020.0</td>\n",
       "    </tr>\n",
       "    <tr>\n",
       "      <th>합계</th>\n",
       "      <td>29588.0</td>\n",
       "      <td>86368.0</td>\n",
       "      <td>138314.0</td>\n",
       "      <td>134372.0</td>\n",
       "      <td>80133.0</td>\n",
       "      <td>54656.0</td>\n",
       "      <td>523431.0</td>\n",
       "    </tr>\n",
       "  </tbody>\n",
       "</table>\n",
       "</div>"
      ],
      "text/plain": [
       "        10y      20y       30y       40y      50y  over60y     total\n",
       "월    3273.0  10334.0   15159.0   14666.0   9540.0   6804.0   59776.0\n",
       "화    4232.0  13275.0   19895.0   19036.0  12390.0   8625.0   77453.0\n",
       "수    4609.0  13678.0   20968.0   20297.0  12624.0   8608.0   80784.0\n",
       "목    3824.0  10793.0   16849.0   16540.0  10203.0   7151.0   65360.0\n",
       "금    3876.0  11147.0   18115.0   17128.0  10849.0   7473.0   68588.0\n",
       "토    5064.0  13522.0   23895.0   24100.0  12533.0   8336.0   87450.0\n",
       "일    4710.0  13619.0   23433.0   22605.0  11994.0   7659.0   84020.0\n",
       "합계  29588.0  86368.0  138314.0  134372.0  80133.0  54656.0  523431.0"
      ]
     },
     "execution_count": 77,
     "metadata": {},
     "output_type": "execute_result"
    }
   ],
   "source": [
    "df4.columns = ['10y', '20y', '30y', '40y', '50y', 'over60y', 'total']\n",
    "df4"
   ]
  },
  {
   "cell_type": "code",
   "execution_count": 78,
   "metadata": {
    "collapsed": false,
    "scrolled": false
   },
   "outputs": [
    {
     "data": {
      "text/html": [
       "<div>\n",
       "<table border=\"1\" class=\"dataframe\">\n",
       "  <thead>\n",
       "    <tr style=\"text-align: right;\">\n",
       "      <th></th>\n",
       "      <th>10y</th>\n",
       "      <th>20y</th>\n",
       "      <th>30y</th>\n",
       "      <th>40y</th>\n",
       "      <th>50y</th>\n",
       "      <th>over60y</th>\n",
       "      <th>total</th>\n",
       "    </tr>\n",
       "  </thead>\n",
       "  <tbody>\n",
       "    <tr>\n",
       "      <th>monday</th>\n",
       "      <td>3273.0</td>\n",
       "      <td>10334.0</td>\n",
       "      <td>15159.0</td>\n",
       "      <td>14666.0</td>\n",
       "      <td>9540.0</td>\n",
       "      <td>6804.0</td>\n",
       "      <td>59776.0</td>\n",
       "    </tr>\n",
       "    <tr>\n",
       "      <th>tuesday</th>\n",
       "      <td>4232.0</td>\n",
       "      <td>13275.0</td>\n",
       "      <td>19895.0</td>\n",
       "      <td>19036.0</td>\n",
       "      <td>12390.0</td>\n",
       "      <td>8625.0</td>\n",
       "      <td>77453.0</td>\n",
       "    </tr>\n",
       "    <tr>\n",
       "      <th>wendsday</th>\n",
       "      <td>4609.0</td>\n",
       "      <td>13678.0</td>\n",
       "      <td>20968.0</td>\n",
       "      <td>20297.0</td>\n",
       "      <td>12624.0</td>\n",
       "      <td>8608.0</td>\n",
       "      <td>80784.0</td>\n",
       "    </tr>\n",
       "    <tr>\n",
       "      <th>tursday</th>\n",
       "      <td>3824.0</td>\n",
       "      <td>10793.0</td>\n",
       "      <td>16849.0</td>\n",
       "      <td>16540.0</td>\n",
       "      <td>10203.0</td>\n",
       "      <td>7151.0</td>\n",
       "      <td>65360.0</td>\n",
       "    </tr>\n",
       "    <tr>\n",
       "      <th>friday</th>\n",
       "      <td>3876.0</td>\n",
       "      <td>11147.0</td>\n",
       "      <td>18115.0</td>\n",
       "      <td>17128.0</td>\n",
       "      <td>10849.0</td>\n",
       "      <td>7473.0</td>\n",
       "      <td>68588.0</td>\n",
       "    </tr>\n",
       "    <tr>\n",
       "      <th>saturday</th>\n",
       "      <td>5064.0</td>\n",
       "      <td>13522.0</td>\n",
       "      <td>23895.0</td>\n",
       "      <td>24100.0</td>\n",
       "      <td>12533.0</td>\n",
       "      <td>8336.0</td>\n",
       "      <td>87450.0</td>\n",
       "    </tr>\n",
       "    <tr>\n",
       "      <th>sunday</th>\n",
       "      <td>4710.0</td>\n",
       "      <td>13619.0</td>\n",
       "      <td>23433.0</td>\n",
       "      <td>22605.0</td>\n",
       "      <td>11994.0</td>\n",
       "      <td>7659.0</td>\n",
       "      <td>84020.0</td>\n",
       "    </tr>\n",
       "    <tr>\n",
       "      <th>Total</th>\n",
       "      <td>29588.0</td>\n",
       "      <td>86368.0</td>\n",
       "      <td>138314.0</td>\n",
       "      <td>134372.0</td>\n",
       "      <td>80133.0</td>\n",
       "      <td>54656.0</td>\n",
       "      <td>523431.0</td>\n",
       "    </tr>\n",
       "  </tbody>\n",
       "</table>\n",
       "</div>"
      ],
      "text/plain": [
       "              10y      20y       30y       40y      50y  over60y     total\n",
       "monday     3273.0  10334.0   15159.0   14666.0   9540.0   6804.0   59776.0\n",
       "tuesday    4232.0  13275.0   19895.0   19036.0  12390.0   8625.0   77453.0\n",
       "wendsday   4609.0  13678.0   20968.0   20297.0  12624.0   8608.0   80784.0\n",
       "tursday    3824.0  10793.0   16849.0   16540.0  10203.0   7151.0   65360.0\n",
       "friday     3876.0  11147.0   18115.0   17128.0  10849.0   7473.0   68588.0\n",
       "saturday   5064.0  13522.0   23895.0   24100.0  12533.0   8336.0   87450.0\n",
       "sunday     4710.0  13619.0   23433.0   22605.0  11994.0   7659.0   84020.0\n",
       "Total     29588.0  86368.0  138314.0  134372.0  80133.0  54656.0  523431.0"
      ]
     },
     "execution_count": 78,
     "metadata": {},
     "output_type": "execute_result"
    }
   ],
   "source": [
    "df4.index = ['monday', 'tuesday', 'wendsday', 'tursday', 'friday', 'saturday', 'sunday', 'Total']  \n",
    "df4"
   ]
  },
  {
   "cell_type": "markdown",
   "metadata": {},
   "source": [
    "이제 치킨집과 중국집 데이터를 합쳤습니다."
   ]
  },
  {
   "cell_type": "code",
   "execution_count": 93,
   "metadata": {
    "collapsed": false,
    "scrolled": true
   },
   "outputs": [
    {
     "data": {
      "text/html": [
       "<div>\n",
       "<table border=\"1\" class=\"dataframe\">\n",
       "  <thead>\n",
       "    <tr style=\"text-align: right;\">\n",
       "      <th></th>\n",
       "      <th>10yr</th>\n",
       "      <th>20yr</th>\n",
       "      <th>30yr</th>\n",
       "      <th>40yr</th>\n",
       "      <th>50yr</th>\n",
       "      <th>over60yr</th>\n",
       "      <th>total_x</th>\n",
       "      <th>10y</th>\n",
       "      <th>20y</th>\n",
       "      <th>30y</th>\n",
       "      <th>40y</th>\n",
       "      <th>50y</th>\n",
       "      <th>over60y</th>\n",
       "      <th>total_y</th>\n",
       "    </tr>\n",
       "  </thead>\n",
       "  <tbody>\n",
       "    <tr>\n",
       "      <th>monday</th>\n",
       "      <td>5247.0</td>\n",
       "      <td>12439.0</td>\n",
       "      <td>15273.0</td>\n",
       "      <td>12690.0</td>\n",
       "      <td>6253.0</td>\n",
       "      <td>3617.0</td>\n",
       "      <td>55519.0</td>\n",
       "      <td>3273.0</td>\n",
       "      <td>10334.0</td>\n",
       "      <td>15159.0</td>\n",
       "      <td>14666.0</td>\n",
       "      <td>9540.0</td>\n",
       "      <td>6804.0</td>\n",
       "      <td>59776.0</td>\n",
       "    </tr>\n",
       "    <tr>\n",
       "      <th>tuesday</th>\n",
       "      <td>7234.0</td>\n",
       "      <td>17127.0</td>\n",
       "      <td>21760.0</td>\n",
       "      <td>19244.0</td>\n",
       "      <td>8588.0</td>\n",
       "      <td>4944.0</td>\n",
       "      <td>78897.0</td>\n",
       "      <td>4232.0</td>\n",
       "      <td>13275.0</td>\n",
       "      <td>19895.0</td>\n",
       "      <td>19036.0</td>\n",
       "      <td>12390.0</td>\n",
       "      <td>8625.0</td>\n",
       "      <td>77453.0</td>\n",
       "    </tr>\n",
       "    <tr>\n",
       "      <th>wendsday</th>\n",
       "      <td>7649.0</td>\n",
       "      <td>17280.0</td>\n",
       "      <td>23491.0</td>\n",
       "      <td>20695.0</td>\n",
       "      <td>9033.0</td>\n",
       "      <td>5089.0</td>\n",
       "      <td>83237.0</td>\n",
       "      <td>4609.0</td>\n",
       "      <td>13678.0</td>\n",
       "      <td>20968.0</td>\n",
       "      <td>20297.0</td>\n",
       "      <td>12624.0</td>\n",
       "      <td>8608.0</td>\n",
       "      <td>80784.0</td>\n",
       "    </tr>\n",
       "    <tr>\n",
       "      <th>tursday</th>\n",
       "      <td>6652.0</td>\n",
       "      <td>14299.0</td>\n",
       "      <td>19356.0</td>\n",
       "      <td>17501.0</td>\n",
       "      <td>7611.0</td>\n",
       "      <td>4057.0</td>\n",
       "      <td>69476.0</td>\n",
       "      <td>3824.0</td>\n",
       "      <td>10793.0</td>\n",
       "      <td>16849.0</td>\n",
       "      <td>16540.0</td>\n",
       "      <td>10203.0</td>\n",
       "      <td>7151.0</td>\n",
       "      <td>65360.0</td>\n",
       "    </tr>\n",
       "    <tr>\n",
       "      <th>friday</th>\n",
       "      <td>7979.0</td>\n",
       "      <td>16736.0</td>\n",
       "      <td>26483.0</td>\n",
       "      <td>24103.0</td>\n",
       "      <td>8866.0</td>\n",
       "      <td>4735.0</td>\n",
       "      <td>88902.0</td>\n",
       "      <td>3876.0</td>\n",
       "      <td>11147.0</td>\n",
       "      <td>18115.0</td>\n",
       "      <td>17128.0</td>\n",
       "      <td>10849.0</td>\n",
       "      <td>7473.0</td>\n",
       "      <td>68588.0</td>\n",
       "    </tr>\n",
       "    <tr>\n",
       "      <th>saturday</th>\n",
       "      <td>9580.0</td>\n",
       "      <td>19861.0</td>\n",
       "      <td>28373.0</td>\n",
       "      <td>27296.0</td>\n",
       "      <td>10244.0</td>\n",
       "      <td>5364.0</td>\n",
       "      <td>100718.0</td>\n",
       "      <td>5064.0</td>\n",
       "      <td>13522.0</td>\n",
       "      <td>23895.0</td>\n",
       "      <td>24100.0</td>\n",
       "      <td>12533.0</td>\n",
       "      <td>8336.0</td>\n",
       "      <td>87450.0</td>\n",
       "    </tr>\n",
       "    <tr>\n",
       "      <th>sunday</th>\n",
       "      <td>7764.0</td>\n",
       "      <td>18427.0</td>\n",
       "      <td>25264.0</td>\n",
       "      <td>22878.0</td>\n",
       "      <td>8743.0</td>\n",
       "      <td>4711.0</td>\n",
       "      <td>87787.0</td>\n",
       "      <td>4710.0</td>\n",
       "      <td>13619.0</td>\n",
       "      <td>23433.0</td>\n",
       "      <td>22605.0</td>\n",
       "      <td>11994.0</td>\n",
       "      <td>7659.0</td>\n",
       "      <td>84020.0</td>\n",
       "    </tr>\n",
       "    <tr>\n",
       "      <th>Total</th>\n",
       "      <td>52105.0</td>\n",
       "      <td>116169.0</td>\n",
       "      <td>160000.0</td>\n",
       "      <td>144407.0</td>\n",
       "      <td>59338.0</td>\n",
       "      <td>32517.0</td>\n",
       "      <td>564536.0</td>\n",
       "      <td>29588.0</td>\n",
       "      <td>86368.0</td>\n",
       "      <td>138314.0</td>\n",
       "      <td>134372.0</td>\n",
       "      <td>80133.0</td>\n",
       "      <td>54656.0</td>\n",
       "      <td>523431.0</td>\n",
       "    </tr>\n",
       "  </tbody>\n",
       "</table>\n",
       "</div>"
      ],
      "text/plain": [
       "             10yr      20yr      30yr      40yr     50yr  over60yr   total_x  \\\n",
       "monday     5247.0   12439.0   15273.0   12690.0   6253.0    3617.0   55519.0   \n",
       "tuesday    7234.0   17127.0   21760.0   19244.0   8588.0    4944.0   78897.0   \n",
       "wendsday   7649.0   17280.0   23491.0   20695.0   9033.0    5089.0   83237.0   \n",
       "tursday    6652.0   14299.0   19356.0   17501.0   7611.0    4057.0   69476.0   \n",
       "friday     7979.0   16736.0   26483.0   24103.0   8866.0    4735.0   88902.0   \n",
       "saturday   9580.0   19861.0   28373.0   27296.0  10244.0    5364.0  100718.0   \n",
       "sunday     7764.0   18427.0   25264.0   22878.0   8743.0    4711.0   87787.0   \n",
       "Total     52105.0  116169.0  160000.0  144407.0  59338.0   32517.0  564536.0   \n",
       "\n",
       "              10y      20y       30y       40y      50y  over60y   total_y  \n",
       "monday     3273.0  10334.0   15159.0   14666.0   9540.0   6804.0   59776.0  \n",
       "tuesday    4232.0  13275.0   19895.0   19036.0  12390.0   8625.0   77453.0  \n",
       "wendsday   4609.0  13678.0   20968.0   20297.0  12624.0   8608.0   80784.0  \n",
       "tursday    3824.0  10793.0   16849.0   16540.0  10203.0   7151.0   65360.0  \n",
       "friday     3876.0  11147.0   18115.0   17128.0  10849.0   7473.0   68588.0  \n",
       "saturday   5064.0  13522.0   23895.0   24100.0  12533.0   8336.0   87450.0  \n",
       "sunday     4710.0  13619.0   23433.0   22605.0  11994.0   7659.0   84020.0  \n",
       "Total     29588.0  86368.0  138314.0  134372.0  80133.0  54656.0  523431.0  "
      ]
     },
     "execution_count": 93,
     "metadata": {},
     "output_type": "execute_result"
    }
   ],
   "source": [
    "df5 = pd.merge(df3, df4, how = 'outer', right_index= True, left_index = True)\n",
    "df5"
   ]
  },
  {
   "cell_type": "code",
   "execution_count": 100,
   "metadata": {
    "collapsed": false
   },
   "outputs": [
    {
     "data": {
      "text/html": [
       "<div>\n",
       "<table border=\"1\" class=\"dataframe\">\n",
       "  <thead>\n",
       "    <tr style=\"text-align: right;\">\n",
       "      <th></th>\n",
       "      <th>10yr</th>\n",
       "      <th>20yr</th>\n",
       "      <th>30yr</th>\n",
       "      <th>40yr</th>\n",
       "      <th>50yr</th>\n",
       "      <th>over60yr</th>\n",
       "      <th>10y</th>\n",
       "      <th>20y</th>\n",
       "      <th>30y</th>\n",
       "      <th>40y</th>\n",
       "      <th>50y</th>\n",
       "      <th>over60y</th>\n",
       "    </tr>\n",
       "  </thead>\n",
       "  <tbody>\n",
       "    <tr>\n",
       "      <th>monday</th>\n",
       "      <td>5247.0</td>\n",
       "      <td>12439.0</td>\n",
       "      <td>15273.0</td>\n",
       "      <td>12690.0</td>\n",
       "      <td>6253.0</td>\n",
       "      <td>3617.0</td>\n",
       "      <td>3273.0</td>\n",
       "      <td>10334.0</td>\n",
       "      <td>15159.0</td>\n",
       "      <td>14666.0</td>\n",
       "      <td>9540.0</td>\n",
       "      <td>6804.0</td>\n",
       "    </tr>\n",
       "    <tr>\n",
       "      <th>tuesday</th>\n",
       "      <td>7234.0</td>\n",
       "      <td>17127.0</td>\n",
       "      <td>21760.0</td>\n",
       "      <td>19244.0</td>\n",
       "      <td>8588.0</td>\n",
       "      <td>4944.0</td>\n",
       "      <td>4232.0</td>\n",
       "      <td>13275.0</td>\n",
       "      <td>19895.0</td>\n",
       "      <td>19036.0</td>\n",
       "      <td>12390.0</td>\n",
       "      <td>8625.0</td>\n",
       "    </tr>\n",
       "    <tr>\n",
       "      <th>wendsday</th>\n",
       "      <td>7649.0</td>\n",
       "      <td>17280.0</td>\n",
       "      <td>23491.0</td>\n",
       "      <td>20695.0</td>\n",
       "      <td>9033.0</td>\n",
       "      <td>5089.0</td>\n",
       "      <td>4609.0</td>\n",
       "      <td>13678.0</td>\n",
       "      <td>20968.0</td>\n",
       "      <td>20297.0</td>\n",
       "      <td>12624.0</td>\n",
       "      <td>8608.0</td>\n",
       "    </tr>\n",
       "    <tr>\n",
       "      <th>tursday</th>\n",
       "      <td>6652.0</td>\n",
       "      <td>14299.0</td>\n",
       "      <td>19356.0</td>\n",
       "      <td>17501.0</td>\n",
       "      <td>7611.0</td>\n",
       "      <td>4057.0</td>\n",
       "      <td>3824.0</td>\n",
       "      <td>10793.0</td>\n",
       "      <td>16849.0</td>\n",
       "      <td>16540.0</td>\n",
       "      <td>10203.0</td>\n",
       "      <td>7151.0</td>\n",
       "    </tr>\n",
       "    <tr>\n",
       "      <th>friday</th>\n",
       "      <td>7979.0</td>\n",
       "      <td>16736.0</td>\n",
       "      <td>26483.0</td>\n",
       "      <td>24103.0</td>\n",
       "      <td>8866.0</td>\n",
       "      <td>4735.0</td>\n",
       "      <td>3876.0</td>\n",
       "      <td>11147.0</td>\n",
       "      <td>18115.0</td>\n",
       "      <td>17128.0</td>\n",
       "      <td>10849.0</td>\n",
       "      <td>7473.0</td>\n",
       "    </tr>\n",
       "    <tr>\n",
       "      <th>saturday</th>\n",
       "      <td>9580.0</td>\n",
       "      <td>19861.0</td>\n",
       "      <td>28373.0</td>\n",
       "      <td>27296.0</td>\n",
       "      <td>10244.0</td>\n",
       "      <td>5364.0</td>\n",
       "      <td>5064.0</td>\n",
       "      <td>13522.0</td>\n",
       "      <td>23895.0</td>\n",
       "      <td>24100.0</td>\n",
       "      <td>12533.0</td>\n",
       "      <td>8336.0</td>\n",
       "    </tr>\n",
       "    <tr>\n",
       "      <th>sunday</th>\n",
       "      <td>7764.0</td>\n",
       "      <td>18427.0</td>\n",
       "      <td>25264.0</td>\n",
       "      <td>22878.0</td>\n",
       "      <td>8743.0</td>\n",
       "      <td>4711.0</td>\n",
       "      <td>4710.0</td>\n",
       "      <td>13619.0</td>\n",
       "      <td>23433.0</td>\n",
       "      <td>22605.0</td>\n",
       "      <td>11994.0</td>\n",
       "      <td>7659.0</td>\n",
       "    </tr>\n",
       "  </tbody>\n",
       "</table>\n",
       "</div>"
      ],
      "text/plain": [
       "            10yr     20yr     30yr     40yr     50yr  over60yr     10y  \\\n",
       "monday    5247.0  12439.0  15273.0  12690.0   6253.0    3617.0  3273.0   \n",
       "tuesday   7234.0  17127.0  21760.0  19244.0   8588.0    4944.0  4232.0   \n",
       "wendsday  7649.0  17280.0  23491.0  20695.0   9033.0    5089.0  4609.0   \n",
       "tursday   6652.0  14299.0  19356.0  17501.0   7611.0    4057.0  3824.0   \n",
       "friday    7979.0  16736.0  26483.0  24103.0   8866.0    4735.0  3876.0   \n",
       "saturday  9580.0  19861.0  28373.0  27296.0  10244.0    5364.0  5064.0   \n",
       "sunday    7764.0  18427.0  25264.0  22878.0   8743.0    4711.0  4710.0   \n",
       "\n",
       "              20y      30y      40y      50y  over60y  \n",
       "monday    10334.0  15159.0  14666.0   9540.0   6804.0  \n",
       "tuesday   13275.0  19895.0  19036.0  12390.0   8625.0  \n",
       "wendsday  13678.0  20968.0  20297.0  12624.0   8608.0  \n",
       "tursday   10793.0  16849.0  16540.0  10203.0   7151.0  \n",
       "friday    11147.0  18115.0  17128.0  10849.0   7473.0  \n",
       "saturday  13522.0  23895.0  24100.0  12533.0   8336.0  \n",
       "sunday    13619.0  23433.0  22605.0  11994.0   7659.0  "
      ]
     },
     "execution_count": 100,
     "metadata": {},
     "output_type": "execute_result"
    }
   ],
   "source": [
    "df6 = df5.ix[0:7, [\"10yr\", \"20yr\", \"30yr\", \"40yr\", \"50yr\", \"over60yr\", \"10y\", \"20y\", \"30y\", \"40y\", \"50y\", \"over60y\"]]\n",
    "df6"
   ]
  },
  {
   "cell_type": "code",
   "execution_count": 101,
   "metadata": {
    "collapsed": false,
    "scrolled": false
   },
   "outputs": [
    {
     "data": {
      "image/png": "[encoded data removed]",
      "text/plain": [
       "<matplotlib.figure.Figure at 0xa8f0190>"
      ]
     },
     "metadata": {},
     "output_type": "display_data"
    },
    {
     "data": {
      "image/png": "[encoded data removed]",
      "text/plain": [
       "<matplotlib.figure.Figure at 0xaa27bb0>"
      ]
     },
     "metadata": {},
     "output_type": "display_data"
    },
    {
     "data": {
      "image/png": "[encoded data removed]",
      "text/plain": [
       "<matplotlib.figure.Figure at 0xad624d0>"
      ]
     },
     "metadata": {},
     "output_type": "display_data"
    },
    {
     "data": {
      "image/png": "[encoded data removed]",
      "text/plain": [
       "<matplotlib.figure.Figure at 0xa92e6b0>"
      ]
     },
     "metadata": {},
     "output_type": "display_data"
    },
    {
     "data": {
      "image/png": "[encoded data removed]",
      "text/plain": [
       "<matplotlib.figure.Figure at 0xad87c50>"
      ]
     },
     "metadata": {},
     "output_type": "display_data"
    },
    {
     "data": {
      "image/png": "[encoded data removed]",
      "text/plain": [
       "<matplotlib.figure.Figure at 0xb3f1910>"
      ]
     },
     "metadata": {},
     "output_type": "display_data"
    }
   ],
   "source": [
    "df6.plot(kind='scatter', x='10yr', y='10y')\n",
    "plt.xlabel(\"chciken\") \n",
    "plt.ylabel(\"china\")\n",
    "\n",
    "df6.plot(kind='scatter', x='20yr', y='20y')\n",
    "plt.xlabel(\"chciken\") \n",
    "plt.ylabel(\"china\")\n",
    "\n",
    "df6.plot(kind='scatter', x='30yr', y='30y')\n",
    "plt.xlabel(\"chciken\") \n",
    "plt.ylabel(\"china\")\n",
    "\n",
    "df6.plot(kind='scatter', x='40yr', y='40y')\n",
    "plt.xlabel(\"chciken\") \n",
    "plt.ylabel(\"china\")\n",
    "\n",
    "df6.plot(kind='scatter', x='50yr', y='50y')\n",
    "plt.xlabel(\"chciken\") \n",
    "plt.ylabel(\"china\")\n",
    "\n",
    "df6.plot(kind='scatter', x='over60yr', y='over60y')\n",
    "\n",
    "plt.xlabel(\"chciken\") \n",
    "plt.ylabel(\"china\")\n",
    "plt.show()"
   ]
  },
  {
   "cell_type": "markdown",
   "metadata": {},
   "source": [
    "## 재미있는 결과는 10대부터 40대 까지는 치킨집의 이용비율이 중국집 이용비율 보다    높은 반면 50대 이상은 중국집 이용 비율이 높은 것을 확인 할 수 있다."
   ]
  },
  {
   "cell_type": "markdown",
   "metadata": {},
   "source": [
    "## 각 연령별 이용 분포를 보겠습니다. boxplot으로 그려봤습니다."
   ]
  },
  {
   "cell_type": "code",
   "execution_count": 103,
   "metadata": {
    "collapsed": false,
    "scrolled": true
   },
   "outputs": [
    {
     "data": {
      "image/png": "[encoded data removed]",
      "text/plain": [
       "<matplotlib.figure.Figure at 0xb3f19b0>"
      ]
     },
     "metadata": {},
     "output_type": "display_data"
    }
   ],
   "source": [
    "df6.boxplot(return_type='axes')\n",
    "plt.show()"
   ]
  },
  {
   "cell_type": "markdown",
   "metadata": {},
   "source": [
    "### 위 boxplot에서도 확인할 수 있듯이 10대 부터 40대 까지는 치킨집 이용 비율이 높고 50대부터 60대까지는 중국집 이용비율이 높은것을 확인할 수 있다."
   ]
  },
  {
   "cell_type": "markdown",
   "metadata": {},
   "source": [
    "서로 독립적인 두 집단에서 얻어진 수치형 자료로 부터 두 집단의 차이가 유의한지를 파악하는데는 독립표본 t-검정 (two independent sample t-test)이 유용합니다. scipy의 ttest_ind 함수를 이용하여 바로 계산이 가능합니다."
   ]
  },
  {
   "cell_type": "code",
   "execution_count": 264,
   "metadata": {
    "collapsed": false
   },
   "outputs": [
    {
     "data": {
      "text/plain": [
       "Ttest_indResult(statistic=5.8343871680230341, pvalue=8.030760337861762e-05)"
      ]
     },
     "execution_count": 264,
     "metadata": {},
     "output_type": "execute_result"
    }
   ],
   "source": [
    "import scipy.stats as stats ## 통계 등 과학용 모듈 scipy\n",
    "stats.ttest_ind(df3['10yr'], df4['10y'])\n"
   ]
  },
  {
   "cell_type": "code",
   "execution_count": 265,
   "metadata": {
    "collapsed": false
   },
   "outputs": [
    {
     "data": {
      "text/plain": [
       "Ttest_indResult(statistic=3.8680923607567705, pvalue=0.0022355977390758758)"
      ]
     },
     "execution_count": 265,
     "metadata": {},
     "output_type": "execute_result"
    }
   ],
   "source": [
    "stats.ttest_ind(df3['20yr'], df4['20y'])"
   ]
  },
  {
   "cell_type": "code",
   "execution_count": 266,
   "metadata": {
    "collapsed": false
   },
   "outputs": [
    {
     "data": {
      "text/plain": [
       "Ttest_indResult(statistic=1.4754651930604941, pvalue=0.16583793591820883)"
      ]
     },
     "execution_count": 266,
     "metadata": {},
     "output_type": "execute_result"
    }
   ],
   "source": [
    "stats.ttest_ind(df3['30yr'], df4['30y'])"
   ]
  },
  {
   "cell_type": "code",
   "execution_count": 267,
   "metadata": {
    "collapsed": false
   },
   "outputs": [
    {
     "data": {
      "text/plain": [
       "Ttest_indResult(statistic=0.64877257729391724, pvalue=0.52870619733790691)"
      ]
     },
     "execution_count": 267,
     "metadata": {},
     "output_type": "execute_result"
    }
   ],
   "source": [
    "stats.ttest_ind(df3['40yr'], df4['40y'])"
   ]
  },
  {
   "cell_type": "code",
   "execution_count": 268,
   "metadata": {
    "collapsed": false
   },
   "outputs": [
    {
     "data": {
      "text/plain": [
       "Ttest_indResult(statistic=-4.4572346912118102, pvalue=0.00078291256170321788)"
      ]
     },
     "execution_count": 268,
     "metadata": {},
     "output_type": "execute_result"
    }
   ],
   "source": [
    "stats.ttest_ind(df3['50yr'], df4['50y'])"
   ]
  },
  {
   "cell_type": "code",
   "execution_count": 269,
   "metadata": {
    "collapsed": false,
    "scrolled": true
   },
   "outputs": [
    {
     "data": {
      "text/plain": [
       "Ttest_indResult(statistic=-8.8377166505364606, pvalue=1.3374423590581811e-06)"
      ]
     },
     "execution_count": 269,
     "metadata": {},
     "output_type": "execute_result"
    }
   ],
   "source": [
    "stats.ttest_ind(df3['over60yr'], df4['over60y'])"
   ]
  },
  {
   "cell_type": "markdown",
   "metadata": {},
   "source": [
    "### 피어슨 상관관계 분석"
   ]
  },
  {
   "cell_type": "code",
   "execution_count": 278,
   "metadata": {
    "collapsed": false
   },
   "outputs": [
    {
     "data": {
      "text/plain": [
       "(0.86920796880838713, 0.011060590652652615)"
      ]
     },
     "execution_count": 278,
     "metadata": {},
     "output_type": "execute_result"
    }
   ],
   "source": [
    "stats.pearsonr(df3['10yr'], df4['10y'])"
   ]
  },
  {
   "cell_type": "code",
   "execution_count": 279,
   "metadata": {
    "collapsed": false
   },
   "outputs": [
    {
     "data": {
      "text/plain": [
       "(0.86011606328799728, 0.013017489651034124)"
      ]
     },
     "execution_count": 279,
     "metadata": {},
     "output_type": "execute_result"
    }
   ],
   "source": [
    "stats.pearsonr(df3['20yr'], df4['20y'])"
   ]
  },
  {
   "cell_type": "code",
   "execution_count": null,
   "metadata": {
    "collapsed": true
   },
   "outputs": [],
   "source": []
  }
 ],
 "metadata": {
  "kernelspec": {
   "display_name": "Python 2",
   "language": "python",
   "name": "python2"
  },
  "language_info": {
   "codemirror_mode": {
    "name": "ipython",
    "version": 2
   },
   "file_extension": ".py",
   "mimetype": "text/x-python",
   "name": "python",
   "nbconvert_exporter": "python",
   "pygments_lexer": "ipython2",
   "version": "2.7.12"
  }
 },
 "nbformat": 4,
 "nbformat_minor": 1
}
